import os
import json
import random
import nltk
import ssl
from sklearn.feature_extraction.text import TfidfVectorizer
from sklearn.linear_model import LogisticRegression

# Handling SSL certificate issues
ssl._create_default_https_context = ssl._create_unverified_context
nltk.download('punkt')

# Load intents from JSON file
file_path = "intents.json"
with open(file_path, "r", encoding="utf-8") as file:
    intents = json.load(file)

# Preprocessing data
tags, patterns = [], []
for intent in intents["intents"]:
    for pattern in intent["patterns"]:
        tags.append(intent["tag"])
        patterns.append(pattern)

# Train TF-IDF Vectorizer
vectorizer = TfidfVectorizer()
X = vectorizer.fit_transform(patterns)

# Train Logistic Regression Model
clf = LogisticRegression(random_state=0, max_iter=10000)
clf.fit(X, tags)

# Chatbot function
def chatbot(input_text):
    transformed_input = vectorizer.transform([input_text])
    tag = clf.predict(transformed_input)[0]
    for intent in intents["intents"]:
        if intent["tag"] == tag:
            return random.choice(intent["responses"])

# Test the chatbot
while True:
    user_input = input("You: ")
    if user_input.lower() == "quit":
        print("Chatbot: Goodbye!")
        break
    response = chatbot(user_input)
    print(f"Chatbot: {response}")
